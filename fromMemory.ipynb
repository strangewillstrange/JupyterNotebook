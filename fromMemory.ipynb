{
 "cells": [
  {
   "cell_type": "code",
   "execution_count": 1,
   "metadata": {},
   "outputs": [],
   "source": [
    "# Initial Jupyter Script"
   ]
  },
  {
   "cell_type": "code",
   "execution_count": null,
   "metadata": {},
   "outputs": [],
   "source": [
    "## imports\n",
    "\n",
    "import requests\n",
    "from requests.auth import HTTPBasicAuth\n",
    "import json\n",
    "import uuid\n",
    "import configparser\n",
    "\n",
    "header_correlation_id = 'x-correlation-id'\n",
    "header_content_type = 'Content-Type'\n",
    "header_client = 'x-client-id'\n",
    "header_host = 'host'"
   ]
  },
  {
   "cell_type": "code",
   "execution_count": null,
   "metadata": {},
   "outputs": [],
   "source": [
    "## Generate token\n",
    "def create_token (environment):\n",
    "    token_url =  'https://wills-orchestrator.' + environment + '.private.strange.com:443'\n",
    "\n",
    "    token_headers = {\n",
    "        header_correlation_id: str( uuid.uuid4() ),\n",
    "        header_content_type: 'application/json',\n",
    "        header_host: 'https://wills-orchestrator.' + environment + '.private.strange.com'\n",
    "    }\n",
    "\n",
    "    # submit token request\n",
    "    token_response = requests.get(token_url, header=token_headers, verify=False)\n",
    "\n",
    "    # parse token\n",
    "    payload = token_response.json()\n",
    "    return \"Bearer \" + payload['token']"
   ]
  },
  {
   "cell_type": "code",
   "execution_count": null,
   "metadata": {},
   "outputs": [],
   "source": [
    "## Query for order\n",
    "def query_order_request(environment , client):\n",
    "    base_url = 'https://wills-orchestrator.' + environment + '.private.strange.com:443'\n",
    "    query_url = '/ws/refund/cs/query'\n",
    "\n",
    "    headers = {\n",
    "        header_correlation_id: str( uuid.uuid4() ),\n",
    "        header_content_type: 'application/json',\n",
    "        header_client: client\n",
    "    }\n",
    "\n",
    "    url = base_url + query_url\n",
    "    response = requests.post( url , headers=headers , verify=False )\n",
    "    response_json = response.json()\n",
    "    print( 'Query Response: '  + json.dumps(response_json, indent=2 ))\n"
   ]
  },
  {
   "cell_type": "code",
   "execution_count": 3,
   "metadata": {},
   "outputs": [],
   "source": [
    "def xml_alert(environment , merchant , client , dispute):\n",
    "    base_url = 'https://wills-orchestrator.' + environment + '.private.strange.com:443'\n",
    "    alert_url = '/ws/alerts'\n",
    "\n",
    "    headers = {\n",
    "        header_correlation_id: str( uuid.uuid4() ),\n",
    "        header_content_type: 'application/xml',\n",
    "        header_client: client\n",
    "    }\n",
    "\n",
    "    if dispute == True:\n",
    "        alert_type = 'ConfirmedDispute'\n",
    "    else:\n",
    "        alert_type = 'CustomerFraud'\n",
    "\n",
    "    data = f\"\"\"\n",
    "    <?xml version=\"1.0\" encoding=\"UTF-8\" standalone=\"yes\"?>\n",
    "    <AlertNotification>\n",
    "        <{alert_type}>\n",
    "        <Alert>\n",
    "            <AlertID>354J434N11K4545Nl</alertID>\n",
    "            <AlertTimestamp>2025-01-22T01:01:01.000Z</alertTimestamp>\n",
    "            <CardNumber>421124xxxxxx1234</CardNumber>\n",
    "            <ARN>24568923450901234324</ARN>\n",
    "            <Amount>12.34</Amount>\n",
    "            <Currency>USD</Currency>\n",
    "            <TransactionType>eCommerce</TransactionType>\n",
    "            <AuthCode>AUTH1</AuthCode>\n",
    "            <MerchantID>{merchant}</MerchantID>\n",
    "        </Alert>\n",
    "        </{alert_type}>\n",
    "    </AlertNotification>\n",
    "    \"\"\"\n",
    "\n",
    "    alert_response = requests.post(url=base_url+alert_url, data=data, headers=headers, verify=False)\n",
    "\n",
    "    print(alert_response)"
   ]
  },
  {
   "cell_type": "code",
   "execution_count": null,
   "metadata": {},
   "outputs": [],
   "source": [
    "def create_inquiry_token (environment):\n",
    "    token_url =  'https://wills-orchestrator.' + environment + '.private.strange.com:443'\n",
    "\n",
    "    token_headers = {\n",
    "        header_correlation_id: str( uuid.uuid4() ),\n",
    "        header_content_type: 'application/json',\n",
    "        header_host: 'https://wills-orchestrator.' + environment + '.private.strange.com'\n",
    "    }\n",
    "\n",
    "    # submit token request\n",
    "    token_response = requests.get(token_url, header=token_headers, verify=False)\n",
    "\n",
    "    # parse token\n",
    "    token_response_token = token_response.json()\n",
    "    return \"Bearer \" + token_response_token['token']"
   ]
  }
 ],
 "metadata": {
  "kernelspec": {
   "display_name": "Python 3",
   "language": "python",
   "name": "python3"
  },
  "language_info": {
   "codemirror_mode": {
    "name": "ipython",
    "version": 3
   },
   "file_extension": ".py",
   "mimetype": "text/x-python",
   "name": "python",
   "nbconvert_exporter": "python",
   "pygments_lexer": "ipython3",
   "version": "3.13.1"
  }
 },
 "nbformat": 4,
 "nbformat_minor": 2
}
