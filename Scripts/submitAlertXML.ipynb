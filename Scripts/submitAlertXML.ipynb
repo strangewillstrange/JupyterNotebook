{
 "cells": [
  {
   "cell_type": "code",
   "execution_count": 1,
   "metadata": {},
   "outputs": [],
   "source": [
    "# Initial Jupyter Script"
   ]
  },
  {
   "cell_type": "code",
   "execution_count": null,
   "metadata": {},
   "outputs": [
    {
     "name": "stdout",
     "output_type": "stream",
     "text": [
      "22.09\n"
     ]
    }
   ],
   "source": [
    "## imports\n",
    "\n",
    "import requests\n",
    "from requests.auth import HTTPBasicAuth\n",
    "import uuid\n",
    "from datetime import datetime\n",
    "\n",
    "header_correlation_id = 'x-correlation-id'\n",
    "header_content_type = 'Content-Type'\n",
    "header_client = 'x-client-id'\n",
    "header_host = 'host'\n",
    "\n",
    "\n",
    "today = datetime.today()\n",
    "\n",
    "formatted_date = today.strftime(\"%Y%m%d\")\n",
    "\n",
    "alert_date = today.strftime(\"%Y%m%dT%H:%M:%S.000Z\")\n",
    "amount = float(today.strftime(\"%H.%M\"))\n",
    "\n",
    "print (amount)"
   ]
  },
  {
   "cell_type": "code",
   "execution_count": null,
   "metadata": {},
   "outputs": [],
   "source": [
    "def xml_alert(environment , merchant , client , dispute):\n",
    "    base_url = 'https://wills-orchestrator.' + environment + '.private.strange.com:443'\n",
    "    alert_url = '/ws/alerts'\n",
    "\n",
    "    headers = {\n",
    "        header_correlation_id: str( uuid.uuid4() ),\n",
    "        header_content_type: 'application/xml',\n",
    "        header_client: client\n",
    "    }\n",
    "\n",
    "    if dispute == True:\n",
    "        alert_type = 'ConfirmedDispute'\n",
    "    else:\n",
    "        alert_type = 'CustomerFraud'\n",
    "\n",
    "    data = f\"\"\"\n",
    "    <?xml version=\"1.0\" encoding=\"UTF-8\" standalone=\"yes\"?>\n",
    "    <AlertNotification>\n",
    "        <{alert_type}>\n",
    "        <Alert>\n",
    "            <AlertID>354J434N11K4545Nl</alertID>\n",
    "            <AlertTimestamp>{alert_date}</alertTimestamp>\n",
    "            <CardNumber>421124xxxxxx1234</CardNumber>\n",
    "            <ARN>24568923450901234324</ARN>\n",
    "            <Amount>{amount}</Amount>\n",
    "            <Currency>USD</Currency>\n",
    "            <TransactionType>eCommerce</TransactionType>\n",
    "            <AuthCode>AUTH1</AuthCode>\n",
    "            <MerchantID>{merchant}</MerchantID>\n",
    "        </Alert>\n",
    "        </{alert_type}>\n",
    "    </AlertNotification>\n",
    "    \"\"\"\n",
    "\n",
    "    alert_response = requests.post(url=base_url+alert_url, data=data, headers=headers, verify=False)\n",
    "\n",
    "    print(alert_response)"
   ]
  }
 ],
 "metadata": {
  "kernelspec": {
   "display_name": "Python 3",
   "language": "python",
   "name": "python3"
  },
  "language_info": {
   "codemirror_mode": {
    "name": "ipython",
    "version": 3
   },
   "file_extension": ".py",
   "mimetype": "text/x-python",
   "name": "python",
   "nbconvert_exporter": "python",
   "pygments_lexer": "ipython3",
   "version": "3.13.5"
  }
 },
 "nbformat": 4,
 "nbformat_minor": 2
}
