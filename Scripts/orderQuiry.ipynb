{
 "cells": [
  {
   "cell_type": "code",
   "execution_count": null,
   "metadata": {},
   "outputs": [],
   "source": [
    "# Initial Jupyter Script"
   ]
  },
  {
   "cell_type": "code",
   "execution_count": null,
   "metadata": {},
   "outputs": [],
   "source": [
    "## imports\n",
    "\n",
    "import requests\n",
    "from requests.auth import HTTPBasicAuth\n",
    "import json\n",
    "import uuid\n",
    "import Scripts.sharedFunctions as sharedFunctions\n",
    "\n",
    "header_correlation_id = 'x-correlation-id'\n",
    "header_content_type = 'Content-Type'\n",
    "header_client = 'x-client-id'\n",
    "header_host = 'host'\n",
    "\n",
    "env = 'dev'\n",
    "client = '1000'"
   ]
  },
  {
   "cell_type": "code",
   "execution_count": null,
   "metadata": {},
   "outputs": [],
   "source": [
    "## Query for order\n",
    "\n",
    "base_url = 'https://wills-orchestrator.' + env + '.private.strange.com:443'\n",
    "query_url = '/ws/refund/cs/query'\n",
    "\n",
    "headers = {\n",
    "    header_correlation_id: str( uuid.uuid4() ),\n",
    "    header_content_type: 'application/json',\n",
    "    header_client: client\n",
    "}\n",
    "\n",
    "token = sharedFunctions.getToken(env, client)\n",
    "\n",
    "url = base_url + query_url\n",
    "response = requests.post( url , headers=headers , auth=token , verify=False )\n",
    "\n",
    "print( 'Query Response: '  + json.dumps(response.json(), indent=2 ))\n"
   ]
  }
 ],
 "metadata": {
  "kernelspec": {
   "display_name": "Python 3",
   "language": "python",
   "name": "python3"
  },
  "language_info": {
   "codemirror_mode": {
    "name": "ipython",
    "version": 3
   },
   "file_extension": ".py",
   "mimetype": "text/x-python",
   "name": "python",
   "nbconvert_exporter": "python",
   "pygments_lexer": "ipython3",
   "version": "3.13.5"
  }
 },
 "nbformat": 4,
 "nbformat_minor": 2
}
