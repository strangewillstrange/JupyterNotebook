{
 "cells": [
  {
   "cell_type": "code",
   "execution_count": 1,
   "metadata": {},
   "outputs": [],
   "source": [
    "# Initial Jupyter Script"
   ]
  },
  {
   "cell_type": "code",
   "execution_count": null,
   "metadata": {},
   "outputs": [],
   "source": [
    "## imports\n",
    "\n",
    "import requests\n",
    "from requests.auth import HTTPBasicAuth\n",
    "import uuid\n",
    "\n",
    "header_correlation_id = 'x-correlation-id'\n",
    "header_content_type = 'Content-Type'\n",
    "header_client = 'x-client-id'\n",
    "header_host = 'host'\n",
    "\n",
    "env = 'dev'"
   ]
  },
  {
   "cell_type": "code",
   "execution_count": null,
   "metadata": {},
   "outputs": [],
   "source": [
    "## Generate token\n",
    "token_url =  'https://wills-orchestrator.' + env + '.private.strange.com:443'\n",
    "\n",
    "token_headers = {\n",
    "    header_correlation_id: str( uuid.uuid4() ),\n",
    "    header_content_type: 'application/json',\n",
    "    header_host: 'https://wills-orchestrator.' + env + '.private.strange.com'\n",
    "}\n",
    "\n",
    "# submit token request\n",
    "token_response = requests.get(token_url, header=token_headers, verify=False)\n",
    "\n",
    "# parse token\n",
    "payload = token_response.json()\n",
    "token = \"Bearer \" + payload['token']"
   ]
  }
 ],
 "metadata": {
  "kernelspec": {
   "display_name": "Python 3",
   "language": "python",
   "name": "python3"
  },
  "language_info": {
   "codemirror_mode": {
    "name": "ipython",
    "version": 3
   },
   "file_extension": ".py",
   "mimetype": "text/x-python",
   "name": "python",
   "nbconvert_exporter": "python",
   "pygments_lexer": "ipython3",
   "version": "3.13.5"
  }
 },
 "nbformat": 4,
 "nbformat_minor": 2
}
